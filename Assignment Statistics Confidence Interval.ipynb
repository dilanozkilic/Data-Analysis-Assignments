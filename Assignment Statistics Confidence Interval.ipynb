{
 "cells": [
  {
   "cell_type": "markdown",
   "id": "092dbb8d",
   "metadata": {},
   "source": [
    "# Statistics Assignment-2 (Confidence Intervals)"
   ]
  },
  {
   "cell_type": "code",
   "execution_count": 1,
   "id": "daa1ebd4",
   "metadata": {},
   "outputs": [],
   "source": [
    "import numpy as np\n",
    "from scipy import stats"
   ]
  },
  {
   "cell_type": "markdown",
   "id": "b7f5c0c3",
   "metadata": {},
   "source": [
    "### EXERCISE 1"
   ]
  },
  {
   "cell_type": "markdown",
   "id": "c112c78c",
   "metadata": {},
   "source": [
    "Suppose scores on exams in statistics are normally distributed with an unknown population mean and a population standard deviation of 3 points. A random sample of 36 scores is taken and gives a sample mean (sample  mean score) of 68. Find a confidence interval estimate for the population mean exam score (the mean score on all exams).\n",
    "\n",
    "Find a 90% confidence interval for the true (population) mean of statistics exam scores."
   ]
  },
  {
   "cell_type": "code",
   "execution_count": 17,
   "id": "d4b8b86d",
   "metadata": {},
   "outputs": [
    {
     "name": "stdout",
     "output_type": "stream",
     "text": [
      "n:  36 \n",
      "xbar:  68 \n",
      "s:  3 \n",
      "sem:  0.5\n"
     ]
    }
   ],
   "source": [
    "n = 36\n",
    "xbar = 68\n",
    "s = 3\n",
    "sem = s / np.sqrt(n)\n",
    "print(\"n: \", n, \"\\nxbar: \", xbar, \"\\ns: \", s, \"\\nsem: \", sem)"
   ]
  },
  {
   "cell_type": "code",
   "execution_count": 20,
   "id": "a9ba2483",
   "metadata": {},
   "outputs": [
    {
     "data": {
      "text/plain": [
       "(67.15521377301812, 68.84478622698188)"
      ]
     },
     "execution_count": 20,
     "metadata": {},
     "output_type": "execute_result"
    }
   ],
   "source": [
    "stats.t.interval(0.90, df=n-1, loc=xbar, scale=sem)"
   ]
  },
  {
   "cell_type": "markdown",
   "id": "09b33a12",
   "metadata": {},
   "source": [
    "### EXERCISE 2"
   ]
  },
  {
   "cell_type": "markdown",
   "id": "4fff6092",
   "metadata": {},
   "source": [
    "What is the normal body temperature for healthy humans? A random sample of 130 healthy human body temperatures provided by Allen Shoemaker7 yielded 98.25 degrees and standard deviation 0.73 degrees. \n",
    "\n",
    "Give a 99% confidence interval for the average body temperature of healthy people."
   ]
  },
  {
   "cell_type": "code",
   "execution_count": 21,
   "id": "9c7337d9",
   "metadata": {},
   "outputs": [
    {
     "name": "stdout",
     "output_type": "stream",
     "text": [
      "n:  130 \n",
      "xbar:  98.25 \n",
      "s:  0.73 \n",
      "sem:  0.06402523540941313\n"
     ]
    }
   ],
   "source": [
    "n = 130\n",
    "xbar = 98.25\n",
    "s = 0.73\n",
    "sem = s / np.sqrt(n)\n",
    "print(\"n: \", n, \"\\nxbar: \", xbar, \"\\ns: \", s, \"\\nsem: \", sem)"
   ]
  },
  {
   "cell_type": "code",
   "execution_count": 22,
   "id": "7c9360e6",
   "metadata": {},
   "outputs": [
    {
     "data": {
      "text/plain": [
       "(98.08260738705933, 98.41739261294067)"
      ]
     },
     "execution_count": 22,
     "metadata": {},
     "output_type": "execute_result"
    }
   ],
   "source": [
    "stats.t.interval(0.99, df=n-1, loc=xbar, scale=sem)"
   ]
  },
  {
   "cell_type": "markdown",
   "id": "844d451b",
   "metadata": {},
   "source": [
    "### EXERCISE 3"
   ]
  },
  {
   "cell_type": "markdown",
   "id": "11156f8d",
   "metadata": {},
   "source": [
    "The administrators for a hospital wished to estimate the average number of days required for inpatient treatment of patients between the ages of 25 and 34. A random sample of 500 hospital patients between these ages produced a mean and standard deviation equal to 5.4 and 3.1 days, respectively.\n",
    "Construct a 95% confidence interval for the mean length of stay for the population of patients from which the sample was drawn."
   ]
  },
  {
   "cell_type": "code",
   "execution_count": 23,
   "id": "047c2341",
   "metadata": {},
   "outputs": [
    {
     "name": "stdout",
     "output_type": "stream",
     "text": [
      "n:  500 \n",
      "xbar:  5.4 \n",
      "s:  3.1 \n",
      "sem:  0.13863621460498696\n"
     ]
    }
   ],
   "source": [
    "n = 500\n",
    "xbar = 5.4\n",
    "s = 3.1\n",
    "sem = s / np.sqrt(n)\n",
    "print(\"n: \", n, \"\\nxbar: \", xbar, \"\\ns: \", s, \"\\nsem: \", sem)"
   ]
  },
  {
   "cell_type": "code",
   "execution_count": 24,
   "id": "2dbb3835",
   "metadata": {},
   "outputs": [
    {
     "data": {
      "text/plain": [
       "(5.127617354510309, 5.672382645489692)"
      ]
     },
     "execution_count": 24,
     "metadata": {},
     "output_type": "execute_result"
    }
   ],
   "source": [
    "stats.t.interval(0.95, df=n-1, loc=xbar, scale=sem)"
   ]
  }
 ],
 "metadata": {
  "kernelspec": {
   "display_name": "Python 3 (ipykernel)",
   "language": "python",
   "name": "python3"
  },
  "language_info": {
   "codemirror_mode": {
    "name": "ipython",
    "version": 3
   },
   "file_extension": ".py",
   "mimetype": "text/x-python",
   "name": "python",
   "nbconvert_exporter": "python",
   "pygments_lexer": "ipython3",
   "version": "3.9.7"
  }
 },
 "nbformat": 4,
 "nbformat_minor": 5
}
